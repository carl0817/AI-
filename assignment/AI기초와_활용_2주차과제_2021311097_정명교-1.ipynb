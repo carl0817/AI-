{
  "nbformat": 4,
  "nbformat_minor": 0,
  "metadata": {
    "colab": {
      "name": "AI기초와_활용_2주차과제_2021311097_정명교.ipynb",
      "provenance": []
    },
    "kernelspec": {
      "name": "python3",
      "display_name": "Python 3"
    },
    "language_info": {
      "name": "python"
    }
  },
  "cells": [
    {
      "cell_type": "code",
      "execution_count": 1,
      "metadata": {
        "id": "6069Adfltxg7"
      },
      "outputs": [],
      "source": [
        "import torch\n",
        "import torch.optim as optim"
      ]
    },
    {
      "cell_type": "code",
      "source": [
        "# 데이터 정의 \n",
        "x_train = torch.FloatTensor([[158],[163],[168],[172],[178],[180]]) # 서로 다른 6명의 사람으로부터 얻은 키(단위: cm) 정보\n",
        "y_train = torch.FloatTensor([[235],[245],[250],[265],[275],[280]]) # 서로 다른 6명의 사람으로부터 얻은 발길이(단위: mm) 정보"
      ],
      "metadata": {
        "id": "oOsnAprYty9u"
      },
      "execution_count": 2,
      "outputs": []
    },
    {
      "cell_type": "code",
      "source": [
        "# Hypothesis 초기화\n",
        "W = torch.zeros(1,requires_grad = True) \n",
        "b = torch.zeros(1,requires_grad = True)"
      ],
      "metadata": {
        "id": "XisuXx2yt0al"
      },
      "execution_count": 3,
      "outputs": []
    },
    {
      "cell_type": "code",
      "source": [
        "# Optimizer 정의\n",
        "optimizer = torch.optim.SGD([W,b], lr=0.00001)"
      ],
      "metadata": {
        "id": "BhlJMSR6t1nl"
      },
      "execution_count": 4,
      "outputs": []
    },
    {
      "cell_type": "markdown",
      "source": [
        "Learning rate란 Gradient decent 알고리즘을 적용시킬 때, 얼마만큼의 경사각을 내려갈 것인지 정하는 부분이다. Learning rate의 값을 어떻게 정하는지에 따라 얻을 수 있는 결과값이 달라지기에 학습을 하는 알고리즘에서 매우 중요하다. Learning rate의 값을 잘못 지정하면 Nan이라는 값이 나타나는데 강의 자료처럼 lr = 0.01로 설정하면 Nan이 나타나기에 0.00001로 수정하였다. 일반적으로 Learning rate를 너무 크게 설정하면 최적화된 W 값을 지나쳐 학습이 제대로 이루어지지 않는 오버슈팅(overshooting)이 발생한다. 이와 반대로, Learning rate를 너무 작게 설정하면 학습의 성능이 떨어지거나 국소 최적치(Local Minima)에 빠져 최적화 된 W값을 찾기도 전에 학습이 끝난다. "
      ],
      "metadata": {
        "id": "e5EUXjHs1eh_"
      }
    },
    {
      "cell_type": "code",
      "source": [
        "nb_epochs = 1000 "
      ],
      "metadata": {
        "id": "GhaD1OkSt3Ld"
      },
      "execution_count": 5,
      "outputs": []
    },
    {
      "cell_type": "code",
      "source": [
        "for epoch in range(nb_epochs +1):\n",
        "\n",
        "  # H(x) 계산\n",
        "  hypothesis = x_train * W + b\n",
        "\n",
        "  # cost 계산\n",
        "  cost = torch.mean((hypothesis - y_train)**2)\n",
        "\n",
        "  # Optimizer로 학습\n",
        "  optimizer.zero_grad()\n",
        "  cost.backward()\n",
        "  optimizer.step()\n",
        "\n",
        "  # 100번마다 로그 출력\n",
        "  if epoch % 100 == 0:\n",
        "    print('Epoch{:4d}/{} W:{:.3f},b:{:.3f} Cost:{:.6f}'.format( epoch, nb_epochs, W.item(), b.item(), cost.item() ))"
      ],
      "metadata": {
        "colab": {
          "base_uri": "https://localhost:8080/"
        },
        "id": "Ayh3JMEiuBiF",
        "outputId": "e4f75e06-bdab-4792-cc64-2de9088a5442"
      },
      "execution_count": 6,
      "outputs": [
        {
          "output_type": "stream",
          "name": "stdout",
          "text": [
            "Epoch   0/1000 W:0.880,b:0.005 Cost:67000.000000\n",
            "Epoch 100/1000 W:1.522,b:0.009 Cost:22.577972\n",
            "Epoch 200/1000 W:1.522,b:0.008 Cost:22.577696\n",
            "Epoch 300/1000 W:1.522,b:0.008 Cost:22.577591\n",
            "Epoch 400/1000 W:1.522,b:0.007 Cost:22.577446\n",
            "Epoch 500/1000 W:1.522,b:0.007 Cost:22.577421\n",
            "Epoch 600/1000 W:1.522,b:0.007 Cost:22.577070\n",
            "Epoch 700/1000 W:1.522,b:0.006 Cost:22.576963\n",
            "Epoch 800/1000 W:1.522,b:0.006 Cost:22.576851\n",
            "Epoch 900/1000 W:1.522,b:0.005 Cost:22.576761\n",
            "Epoch1000/1000 W:1.522,b:0.005 Cost:22.576553\n"
          ]
        }
      ]
    },
    {
      "cell_type": "code",
      "source": [
        ""
      ],
      "metadata": {
        "id": "tXEqn9aYxZ0i"
      },
      "execution_count": null,
      "outputs": []
    }
  ]
}